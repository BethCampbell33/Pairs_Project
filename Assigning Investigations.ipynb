{
 "cells": [
  {
   "cell_type": "code",
   "execution_count": 3,
   "id": "85491c0b",
   "metadata": {},
   "outputs": [],
   "source": [
    "import random\n",
    "from collections import deque\n",
    "from collections import defaultdict"
   ]
  },
  {
   "cell_type": "code",
   "execution_count": 4,
   "id": "aed29a21",
   "metadata": {},
   "outputs": [],
   "source": [
    "def generate_random_choices(students_count, projects_count):\n",
    "    choices = []\n",
    "    for _ in range(students_count):\n",
    "        choices.append({\"choices\": random.sample(range(1, projects_count + 1), 5)})\n",
    "    return choices"
   ]
  },
  {
   "cell_type": "markdown",
   "id": "e1bc78dd",
   "metadata": {},
   "source": [
    "## Breadth First Search"
   ]
  },
  {
   "cell_type": "code",
   "execution_count": null,
   "id": "d505484f",
   "metadata": {},
   "outputs": [],
   "source": [
    "def assign_projects_bfs(students, projects):\n",
    "    # Initialize a queue for BFS\n",
    "    queue = deque()\n",
    "\n",
    "    # Add the initial state to the queue\n",
    "    queue.append((0, [None] * len(students)))\n",
    "\n",
    "    while queue:\n",
    "        # Dequeue the current state\n",
    "        current_student_index, current_assignment = queue.popleft()\n",
    "\n",
    "        # If all students are assigned projects, print or return the assignment\n",
    "        if current_student_index == len(students):\n",
    "            for i in range(len(students)):\n",
    "                print(f\"Student {i+1} choices: {students[i]['choices']}, assigned project {current_assignment[i]}\")\n",
    "            return\n",
    "\n",
    "        # Get the choices for the current student\n",
    "        current_student = students[current_student_index]\n",
    "        choices = current_student[\"choices\"]\n",
    "\n",
    "        # Try assigning each project from the student's choices\n",
    "        for choice in choices:\n",
    "            # If the project is not already assigned, create a new state and enqueue it\n",
    "            if choice not in current_assignment:\n",
    "                new_assignment = current_assignment.copy()\n",
    "                new_assignment[current_student_index] = choice\n",
    "                queue.append((current_student_index + 1, new_assignment))\n",
    "\n",
    "# Generate random choices for 20 students and 40 projects\n",
    "students_count = 26\n",
    "projects_count = 47\n",
    "students = generate_random_choices(students_count, projects_count)\n",
    "\n",
    "# Create a list of project numbers\n",
    "projects = list(range(1, projects_count + 1))\n",
    "\n",
    "# Run BFS algorithm to assign projects\n",
    "assign_projects_bfs(students, projects)"
   ]
  },
  {
   "cell_type": "markdown",
   "id": "1ed8d1a1",
   "metadata": {},
   "source": [
    "## Depth First Search"
   ]
  },
  {
   "cell_type": "code",
   "execution_count": 14,
   "id": "cfef317c",
   "metadata": {},
   "outputs": [
    {
     "name": "stdout",
     "output_type": "stream",
     "text": [
      "Student 1 choices: [44, 33, 29, 18, 34], assigned project 44\n",
      "Student 2 choices: [43, 26, 38, 29, 22], assigned project 43\n",
      "Student 3 choices: [46, 32, 13, 34, 28], assigned project 46\n",
      "Student 4 choices: [47, 19, 26, 35, 8], assigned project 47\n",
      "Student 5 choices: [8, 36, 38, 19, 31], assigned project 8\n",
      "Student 6 choices: [41, 27, 34, 29, 8], assigned project 41\n",
      "Student 7 choices: [4, 10, 32, 29, 15], assigned project 4\n",
      "Student 8 choices: [37, 34, 4, 18, 29], assigned project 37\n",
      "Student 9 choices: [44, 6, 20, 12, 2], assigned project 6\n",
      "Student 10 choices: [4, 46, 31, 44, 20], assigned project 31\n",
      "Student 11 choices: [9, 38, 39, 1, 41], assigned project 9\n",
      "Student 12 choices: [17, 30, 27, 15, 12], assigned project 17\n",
      "Student 13 choices: [21, 40, 37, 45, 12], assigned project 21\n",
      "Student 14 choices: [19, 46, 23, 13, 22], assigned project 19\n",
      "Student 15 choices: [28, 11, 8, 40, 33], assigned project 28\n",
      "Student 16 choices: [45, 9, 25, 31, 40], assigned project 45\n",
      "Student 17 choices: [19, 22, 24, 16, 23], assigned project 22\n",
      "Student 18 choices: [33, 4, 11, 30, 8], assigned project 33\n",
      "Student 19 choices: [29, 2, 34, 8, 7], assigned project 29\n",
      "Student 20 choices: [40, 22, 12, 8, 24], assigned project 40\n",
      "Student 21 choices: [41, 7, 16, 23, 30], assigned project 7\n",
      "Student 22 choices: [34, 13, 6, 29, 31], assigned project 34\n",
      "Student 23 choices: [38, 12, 6, 14, 29], assigned project 38\n",
      "Student 24 choices: [15, 19, 45, 26, 46], assigned project 15\n",
      "Student 25 choices: [43, 26, 44, 7, 35], assigned project 26\n",
      "Student 26 choices: [39, 12, 27, 28, 32], assigned project 39\n",
      "Valid assignment found.\n"
     ]
    }
   ],
   "source": [
    "def assign_projects_dfs(students, projects):\n",
    "    # Initialize an empty assignment list\n",
    "    assignment = [None] * len(students)\n",
    "\n",
    "    # Define a recursive depth-first search function\n",
    "    def dfs(student_index):\n",
    "        # Base case: if all students are assigned projects, return True\n",
    "        if student_index == len(students):\n",
    "            for i in range(len(students)):\n",
    "                print(f\"Student {i+1} choices: {students[i]['choices']}, assigned project {assignment[i]}\")\n",
    "            return True\n",
    "\n",
    "        # Get the current student and their choices\n",
    "        current_student = students[student_index]\n",
    "        choices = current_student[\"choices\"]\n",
    "\n",
    "        # Try assigning each project from the student's choices\n",
    "        for choice in choices:\n",
    "            # If the project is not already assigned, assign it to the current student\n",
    "            if choice not in assignment:\n",
    "                assignment[student_index] = choice\n",
    "\n",
    "                # Recursively try to assign projects to the next student\n",
    "                if dfs(student_index + 1):\n",
    "                    return True  # If a valid assignment is found, return True\n",
    "\n",
    "                # If the recursive call fails, backtrack by undoing the assignment\n",
    "                assignment[student_index] = None\n",
    "\n",
    "        # If no assignment is possible for the current student, return False\n",
    "        return False\n",
    "\n",
    "    # Start the depth-first search process\n",
    "    if dfs(0):\n",
    "        print(\"Valid assignment found.\")\n",
    "    else:\n",
    "        print(\"No valid assignment found.\")\n",
    "\n",
    "# Generate random choices for 26 students and 47 projects\n",
    "students_count = 26\n",
    "projects_count = 47\n",
    "students = generate_random_choices(students_count, projects_count)\n",
    "\n",
    "# Create a list of project numbers\n",
    "projects = list(range(1, projects_count + 1))\n",
    "\n",
    "# Run DFS algorithm to assign projects\n",
    "assign_projects_dfs(students, projects)"
   ]
  },
  {
   "cell_type": "code",
   "execution_count": null,
   "id": "3508965e",
   "metadata": {},
   "outputs": [],
   "source": []
  }
 ],
 "metadata": {
  "kernelspec": {
   "display_name": "Python 3 (ipykernel)",
   "language": "python",
   "name": "python3"
  },
  "language_info": {
   "codemirror_mode": {
    "name": "ipython",
    "version": 3
   },
   "file_extension": ".py",
   "mimetype": "text/x-python",
   "name": "python",
   "nbconvert_exporter": "python",
   "pygments_lexer": "ipython3",
   "version": "3.11.4"
  }
 },
 "nbformat": 4,
 "nbformat_minor": 5
}
